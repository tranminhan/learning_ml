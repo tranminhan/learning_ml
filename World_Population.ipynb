{
 "cells": [
  {
   "cell_type": "code",
   "execution_count": 2,
   "metadata": {},
   "outputs": [],
   "source": [
    "import pandas as pd\n",
    "from matplotlib import pyplot as plt\n",
    "import numpy as np"
   ]
  },
  {
   "cell_type": "code",
   "execution_count": 3,
   "metadata": {},
   "outputs": [],
   "source": [
    "data = pd.read_csv(\"CSWS_Population.csv\")"
   ]
  },
  {
   "cell_type": "code",
   "execution_count": 4,
   "metadata": {},
   "outputs": [
    {
     "data": {
      "text/html": [
       "<div>\n",
       "<style scoped>\n",
       "    .dataframe tbody tr th:only-of-type {\n",
       "        vertical-align: middle;\n",
       "    }\n",
       "\n",
       "    .dataframe tbody tr th {\n",
       "        vertical-align: top;\n",
       "    }\n",
       "\n",
       "    .dataframe thead th {\n",
       "        text-align: right;\n",
       "    }\n",
       "</style>\n",
       "<table border=\"1\" class=\"dataframe\">\n",
       "  <thead>\n",
       "    <tr style=\"text-align: right;\">\n",
       "      <th></th>\n",
       "      <th>country</th>\n",
       "      <th>countryCode</th>\n",
       "      <th>year</th>\n",
       "      <th>lifeExpectancy</th>\n",
       "      <th>populationFemale</th>\n",
       "      <th>populationMale</th>\n",
       "      <th>gdpPerCapita</th>\n",
       "      <th>population</th>\n",
       "    </tr>\n",
       "  </thead>\n",
       "  <tbody>\n",
       "    <tr>\n",
       "      <th>0</th>\n",
       "      <td>Aruba</td>\n",
       "      <td>ABW</td>\n",
       "      <td>1960</td>\n",
       "      <td>65.662</td>\n",
       "      <td>27637.0</td>\n",
       "      <td>26574.0</td>\n",
       "      <td>NaN</td>\n",
       "      <td>54211.0</td>\n",
       "    </tr>\n",
       "    <tr>\n",
       "      <th>1</th>\n",
       "      <td>Aruba</td>\n",
       "      <td>ABW</td>\n",
       "      <td>1961</td>\n",
       "      <td>66.074</td>\n",
       "      <td>28254.0</td>\n",
       "      <td>27184.0</td>\n",
       "      <td>NaN</td>\n",
       "      <td>55438.0</td>\n",
       "    </tr>\n",
       "    <tr>\n",
       "      <th>2</th>\n",
       "      <td>Aruba</td>\n",
       "      <td>ABW</td>\n",
       "      <td>1962</td>\n",
       "      <td>66.444</td>\n",
       "      <td>28655.0</td>\n",
       "      <td>27570.0</td>\n",
       "      <td>NaN</td>\n",
       "      <td>56225.0</td>\n",
       "    </tr>\n",
       "    <tr>\n",
       "      <th>3</th>\n",
       "      <td>Aruba</td>\n",
       "      <td>ABW</td>\n",
       "      <td>1963</td>\n",
       "      <td>66.787</td>\n",
       "      <td>28907.0</td>\n",
       "      <td>27788.0</td>\n",
       "      <td>NaN</td>\n",
       "      <td>56695.0</td>\n",
       "    </tr>\n",
       "    <tr>\n",
       "      <th>4</th>\n",
       "      <td>Aruba</td>\n",
       "      <td>ABW</td>\n",
       "      <td>1964</td>\n",
       "      <td>67.113</td>\n",
       "      <td>29094.0</td>\n",
       "      <td>27938.0</td>\n",
       "      <td>NaN</td>\n",
       "      <td>57032.0</td>\n",
       "    </tr>\n",
       "  </tbody>\n",
       "</table>\n",
       "</div>"
      ],
      "text/plain": [
       "  country countryCode  year  lifeExpectancy  populationFemale  populationMale  \\\n",
       "0   Aruba         ABW  1960          65.662           27637.0         26574.0   \n",
       "1   Aruba         ABW  1961          66.074           28254.0         27184.0   \n",
       "2   Aruba         ABW  1962          66.444           28655.0         27570.0   \n",
       "3   Aruba         ABW  1963          66.787           28907.0         27788.0   \n",
       "4   Aruba         ABW  1964          67.113           29094.0         27938.0   \n",
       "\n",
       "   gdpPerCapita  population  \n",
       "0           NaN     54211.0  \n",
       "1           NaN     55438.0  \n",
       "2           NaN     56225.0  \n",
       "3           NaN     56695.0  \n",
       "4           NaN     57032.0  "
      ]
     },
     "execution_count": 4,
     "metadata": {},
     "output_type": "execute_result"
    }
   ],
   "source": [
    "data.head()"
   ]
  },
  {
   "cell_type": "code",
   "execution_count": 5,
   "metadata": {},
   "outputs": [],
   "source": [
    "vietnam = data[data['country'] == 'Vietnam']"
   ]
  },
  {
   "cell_type": "code",
   "execution_count": 6,
   "metadata": {},
   "outputs": [
    {
     "data": {
      "text/html": [
       "<div>\n",
       "<style scoped>\n",
       "    .dataframe tbody tr th:only-of-type {\n",
       "        vertical-align: middle;\n",
       "    }\n",
       "\n",
       "    .dataframe tbody tr th {\n",
       "        vertical-align: top;\n",
       "    }\n",
       "\n",
       "    .dataframe thead th {\n",
       "        text-align: right;\n",
       "    }\n",
       "</style>\n",
       "<table border=\"1\" class=\"dataframe\">\n",
       "  <thead>\n",
       "    <tr style=\"text-align: right;\">\n",
       "      <th></th>\n",
       "      <th>country</th>\n",
       "      <th>countryCode</th>\n",
       "      <th>year</th>\n",
       "      <th>lifeExpectancy</th>\n",
       "      <th>populationFemale</th>\n",
       "      <th>populationMale</th>\n",
       "      <th>gdpPerCapita</th>\n",
       "      <th>population</th>\n",
       "    </tr>\n",
       "  </thead>\n",
       "  <tbody>\n",
       "    <tr>\n",
       "      <th>14790</th>\n",
       "      <td>Vietnam</td>\n",
       "      <td>VNM</td>\n",
       "      <td>1960</td>\n",
       "      <td>59.041</td>\n",
       "      <td>16554502.0</td>\n",
       "      <td>16116127.0</td>\n",
       "      <td>NaN</td>\n",
       "      <td>32670629.0</td>\n",
       "    </tr>\n",
       "    <tr>\n",
       "      <th>14791</th>\n",
       "      <td>Vietnam</td>\n",
       "      <td>VNM</td>\n",
       "      <td>1961</td>\n",
       "      <td>59.722</td>\n",
       "      <td>17057908.0</td>\n",
       "      <td>16608864.0</td>\n",
       "      <td>NaN</td>\n",
       "      <td>33666772.0</td>\n",
       "    </tr>\n",
       "    <tr>\n",
       "      <th>14792</th>\n",
       "      <td>Vietnam</td>\n",
       "      <td>VNM</td>\n",
       "      <td>1962</td>\n",
       "      <td>60.391</td>\n",
       "      <td>17572019.0</td>\n",
       "      <td>17112146.0</td>\n",
       "      <td>NaN</td>\n",
       "      <td>34684165.0</td>\n",
       "    </tr>\n",
       "    <tr>\n",
       "      <th>14793</th>\n",
       "      <td>Vietnam</td>\n",
       "      <td>VNM</td>\n",
       "      <td>1963</td>\n",
       "      <td>61.024</td>\n",
       "      <td>18096738.0</td>\n",
       "      <td>17625353.0</td>\n",
       "      <td>NaN</td>\n",
       "      <td>35722091.0</td>\n",
       "    </tr>\n",
       "    <tr>\n",
       "      <th>14794</th>\n",
       "      <td>Vietnam</td>\n",
       "      <td>VNM</td>\n",
       "      <td>1964</td>\n",
       "      <td>61.585</td>\n",
       "      <td>18632569.0</td>\n",
       "      <td>18148416.0</td>\n",
       "      <td>NaN</td>\n",
       "      <td>36780985.0</td>\n",
       "    </tr>\n",
       "  </tbody>\n",
       "</table>\n",
       "</div>"
      ],
      "text/plain": [
       "       country countryCode  year  lifeExpectancy  populationFemale  \\\n",
       "14790  Vietnam         VNM  1960          59.041        16554502.0   \n",
       "14791  Vietnam         VNM  1961          59.722        17057908.0   \n",
       "14792  Vietnam         VNM  1962          60.391        17572019.0   \n",
       "14793  Vietnam         VNM  1963          61.024        18096738.0   \n",
       "14794  Vietnam         VNM  1964          61.585        18632569.0   \n",
       "\n",
       "       populationMale  gdpPerCapita  population  \n",
       "14790      16116127.0           NaN  32670629.0  \n",
       "14791      16608864.0           NaN  33666772.0  \n",
       "14792      17112146.0           NaN  34684165.0  \n",
       "14793      17625353.0           NaN  35722091.0  \n",
       "14794      18148416.0           NaN  36780985.0  "
      ]
     },
     "execution_count": 6,
     "metadata": {},
     "output_type": "execute_result"
    }
   ],
   "source": [
    "vietnam.head()"
   ]
  },
  {
   "cell_type": "code",
   "execution_count": 7,
   "metadata": {},
   "outputs": [
    {
     "data": {
      "text/html": [
       "<div>\n",
       "<style scoped>\n",
       "    .dataframe tbody tr th:only-of-type {\n",
       "        vertical-align: middle;\n",
       "    }\n",
       "\n",
       "    .dataframe tbody tr th {\n",
       "        vertical-align: top;\n",
       "    }\n",
       "\n",
       "    .dataframe thead th {\n",
       "        text-align: right;\n",
       "    }\n",
       "</style>\n",
       "<table border=\"1\" class=\"dataframe\">\n",
       "  <thead>\n",
       "    <tr style=\"text-align: right;\">\n",
       "      <th></th>\n",
       "      <th>year</th>\n",
       "      <th>lifeExpectancy</th>\n",
       "      <th>populationFemale</th>\n",
       "      <th>populationMale</th>\n",
       "      <th>gdpPerCapita</th>\n",
       "      <th>population</th>\n",
       "    </tr>\n",
       "  </thead>\n",
       "  <tbody>\n",
       "    <tr>\n",
       "      <th>count</th>\n",
       "      <td>58.000000</td>\n",
       "      <td>57.000000</td>\n",
       "      <td>5.800000e+01</td>\n",
       "      <td>5.800000e+01</td>\n",
       "      <td>33.000000</td>\n",
       "      <td>5.800000e+01</td>\n",
       "    </tr>\n",
       "    <tr>\n",
       "      <th>mean</th>\n",
       "      <td>1988.500000</td>\n",
       "      <td>68.524140</td>\n",
       "      <td>3.303913e+07</td>\n",
       "      <td>3.210318e+07</td>\n",
       "      <td>791.128894</td>\n",
       "      <td>6.514230e+07</td>\n",
       "    </tr>\n",
       "    <tr>\n",
       "      <th>std</th>\n",
       "      <td>16.886879</td>\n",
       "      <td>5.850385</td>\n",
       "      <td>9.814209e+06</td>\n",
       "      <td>9.601228e+06</td>\n",
       "      <td>694.314097</td>\n",
       "      <td>1.941506e+07</td>\n",
       "    </tr>\n",
       "    <tr>\n",
       "      <th>min</th>\n",
       "      <td>1960.000000</td>\n",
       "      <td>58.835000</td>\n",
       "      <td>1.655450e+07</td>\n",
       "      <td>1.611613e+07</td>\n",
       "      <td>94.271269</td>\n",
       "      <td>3.267063e+07</td>\n",
       "    </tr>\n",
       "    <tr>\n",
       "      <th>25%</th>\n",
       "      <td>1974.250000</td>\n",
       "      <td>61.968000</td>\n",
       "      <td>2.437477e+07</td>\n",
       "      <td>2.355390e+07</td>\n",
       "      <td>322.857048</td>\n",
       "      <td>4.792868e+07</td>\n",
       "    </tr>\n",
       "    <tr>\n",
       "      <th>50%</th>\n",
       "      <td>1988.500000</td>\n",
       "      <td>69.940000</td>\n",
       "      <td>3.353201e+07</td>\n",
       "      <td>3.250354e+07</td>\n",
       "      <td>427.838026</td>\n",
       "      <td>6.603556e+07</td>\n",
       "    </tr>\n",
       "    <tr>\n",
       "      <th>75%</th>\n",
       "      <td>2002.750000</td>\n",
       "      <td>73.695000</td>\n",
       "      <td>4.189915e+07</td>\n",
       "      <td>4.065072e+07</td>\n",
       "      <td>1210.691110</td>\n",
       "      <td>8.254987e+07</td>\n",
       "    </tr>\n",
       "    <tr>\n",
       "      <th>max</th>\n",
       "      <td>2017.000000</td>\n",
       "      <td>76.253000</td>\n",
       "      <td>4.826236e+07</td>\n",
       "      <td>4.727844e+07</td>\n",
       "      <td>2343.124575</td>\n",
       "      <td>9.554080e+07</td>\n",
       "    </tr>\n",
       "  </tbody>\n",
       "</table>\n",
       "</div>"
      ],
      "text/plain": [
       "              year  lifeExpectancy  populationFemale  populationMale  \\\n",
       "count    58.000000       57.000000      5.800000e+01    5.800000e+01   \n",
       "mean   1988.500000       68.524140      3.303913e+07    3.210318e+07   \n",
       "std      16.886879        5.850385      9.814209e+06    9.601228e+06   \n",
       "min    1960.000000       58.835000      1.655450e+07    1.611613e+07   \n",
       "25%    1974.250000       61.968000      2.437477e+07    2.355390e+07   \n",
       "50%    1988.500000       69.940000      3.353201e+07    3.250354e+07   \n",
       "75%    2002.750000       73.695000      4.189915e+07    4.065072e+07   \n",
       "max    2017.000000       76.253000      4.826236e+07    4.727844e+07   \n",
       "\n",
       "       gdpPerCapita    population  \n",
       "count     33.000000  5.800000e+01  \n",
       "mean     791.128894  6.514230e+07  \n",
       "std      694.314097  1.941506e+07  \n",
       "min       94.271269  3.267063e+07  \n",
       "25%      322.857048  4.792868e+07  \n",
       "50%      427.838026  6.603556e+07  \n",
       "75%     1210.691110  8.254987e+07  \n",
       "max     2343.124575  9.554080e+07  "
      ]
     },
     "execution_count": 7,
     "metadata": {},
     "output_type": "execute_result"
    }
   ],
   "source": [
    "vietnam.describe()"
   ]
  },
  {
   "cell_type": "markdown",
   "metadata": {},
   "source": [
    "### Visualize data"
   ]
  },
  {
   "cell_type": "markdown",
   "metadata": {},
   "source": [
    "#### GDP Per Capital over Year"
   ]
  },
  {
   "cell_type": "code",
   "execution_count": 8,
   "metadata": {},
   "outputs": [
    {
     "data": {
      "image/png": "[encoded data removed]",
      "text/plain": [
       "<Figure size 432x288 with 1 Axes>"
      ]
     },
     "metadata": {
      "needs_background": "light"
     },
     "output_type": "display_data"
    }
   ],
   "source": [
    "plt.plot(vietnam['year'], vietnam['gdpPerCapita'])\n",
    "plt.legend(['Vietnam'])\n",
    "plt.xlabel('Year')\n",
    "plt.ylabel('GDP Per Capita')\n",
    "plt.grid()\n",
    "plt.show()"
   ]
  },
  {
   "cell_type": "markdown",
   "metadata": {},
   "source": [
    "#### GDP Life Expectancy over Year"
   ]
  },
  {
   "cell_type": "code",
   "execution_count": 9,
   "metadata": {},
   "outputs": [
    {
     "data": {
      "image/png": "[encoded data removed]",
      "text/plain": [
       "<Figure size 432x288 with 1 Axes>"
      ]
     },
     "metadata": {
      "needs_background": "light"
     },
     "output_type": "display_data"
    }
   ],
   "source": [
    "plt.plot(vietnam['year'], vietnam['lifeExpectancy'])\n",
    "plt.legend(['Vietnam'])\n",
    "plt.xlabel('Year')\n",
    "plt.ylabel('Life Expectancy')\n",
    "plt.grid()\n",
    "plt.show()"
   ]
  },
  {
   "cell_type": "markdown",
   "metadata": {},
   "source": [
    "#### Population over Year"
   ]
  },
  {
   "cell_type": "code",
   "execution_count": 10,
   "metadata": {},
   "outputs": [
    {
     "data": {
      "image/png": "[encoded data removed]",
      "text/plain": [
       "<Figure size 432x288 with 1 Axes>"
      ]
     },
     "metadata": {
      "needs_background": "light"
     },
     "output_type": "display_data"
    }
   ],
   "source": [
    "plt.plot(vietnam['year'], vietnam['population'])\n",
    "plt.plot(vietnam['year'], vietnam['populationMale'])\n",
    "plt.plot(vietnam['year'], vietnam['populationFemale'])\n",
    "plt.legend(['Total Population', 'Male Population', 'Female Population'])\n",
    "plt.xlabel('Year')\n",
    "plt.ylabel('Population')\n",
    "plt.grid()\n",
    "plt.show()"
   ]
  },
  {
   "cell_type": "markdown",
   "metadata": {},
   "source": [
    "### Train and Predict Population"
   ]
  },
  {
   "cell_type": "markdown",
   "metadata": {},
   "source": [
    "#### Train and Predict GDP"
   ]
  },
  {
   "cell_type": "code",
   "execution_count": 11,
   "metadata": {},
   "outputs": [],
   "source": [
    "from sklearn.linear_model import LinearRegression\n",
    "from sklearn.preprocessing import PolynomialFeatures"
   ]
  },
  {
   "cell_type": "code",
   "execution_count": 12,
   "metadata": {},
   "outputs": [],
   "source": [
    "lr_life = LinearRegression()\n",
    "pr_gdp = LinearRegression()\n",
    "lr_population = LinearRegression()"
   ]
  },
  {
   "cell_type": "code",
   "execution_count": 13,
   "metadata": {},
   "outputs": [],
   "source": [
    "poly_reg = PolynomialFeatures(degree = 10)"
   ]
  },
  {
   "cell_type": "code",
   "execution_count": 14,
   "metadata": {},
   "outputs": [],
   "source": [
    "from_1985_to_2007 = (vietnam['year'] >= 1985) & (vietnam['year'] <= 2007)"
   ]
  },
  {
   "cell_type": "code",
   "execution_count": 15,
   "metadata": {},
   "outputs": [],
   "source": [
    "X_train_gdp = vietnam[from_1985_to_2007][['year']]"
   ]
  },
  {
   "cell_type": "code",
   "execution_count": 16,
   "metadata": {},
   "outputs": [],
   "source": [
    "X_train_gdp_poly = poly_reg.fit_transform(X_train_gdp)"
   ]
  },
  {
   "cell_type": "code",
   "execution_count": 17,
   "metadata": {},
   "outputs": [],
   "source": [
    "y_train_gdp = vietnam[from_1985_to_2007]['gdpPerCapita']"
   ]
  },
  {
   "cell_type": "code",
   "execution_count": 18,
   "metadata": {},
   "outputs": [
    {
     "data": {
      "text/plain": [
       "LinearRegression(copy_X=True, fit_intercept=True, n_jobs=1, normalize=False)"
      ]
     },
     "execution_count": 18,
     "metadata": {},
     "output_type": "execute_result"
    }
   ],
   "source": [
    "pr_gdp.fit(X_train_gdp_poly, y_train_gdp)"
   ]
  },
  {
   "cell_type": "code",
   "execution_count": 19,
   "metadata": {},
   "outputs": [],
   "source": [
    "predicted_train_gdp = pr_gdp.predict(X_train_gdp_poly)"
   ]
  },
  {
   "cell_type": "code",
   "execution_count": 20,
   "metadata": {},
   "outputs": [
    {
     "data": {
      "image/png": "[encoded data removed]",
      "text/plain": [
       "<Figure size 576x360 with 1 Axes>"
      ]
     },
     "metadata": {
      "needs_background": "light"
     },
     "output_type": "display_data"
    }
   ],
   "source": [
    "plt.figure(figsize=(8,5))\n",
    "plt.plot(X_train_gdp, predicted_train_gdp)\n",
    "plt.plot(X_train_gdp, y_train_gdp)\n",
    "plt.legend(['Predicted', 'Actual'])\n",
    "plt.xlabel('Year')\n",
    "plt.ylabel('GDP Per Capita')\n",
    "plt.grid()\n",
    "plt.show()"
   ]
  },
  {
   "cell_type": "code",
   "execution_count": 21,
   "metadata": {},
   "outputs": [],
   "source": [
    "X_train_life = vietnam[from_1985_to_2007][['year']]\n",
    "y_train_life = vietnam[from_1985_to_2007]['lifeExpectancy']\n",
    "\n",
    "lr_life.fit(X_train_life, y_train_life)\n",
    "\n",
    "predicted_life = lr_life.predict(X_train_life)"
   ]
  },
  {
   "cell_type": "code",
   "execution_count": 22,
   "metadata": {},
   "outputs": [
    {
     "data": {
      "image/png": "[encoded data removed]",
      "text/plain": [
       "<Figure size 576x360 with 1 Axes>"
      ]
     },
     "metadata": {
      "needs_background": "light"
     },
     "output_type": "display_data"
    }
   ],
   "source": [
    "plt.figure(figsize=(8, 5))\n",
    "plt.plot(X_train_life, predicted_life)\n",
    "plt.plot(X_train_life, y_train_life)\n",
    "plt.legend(['Predicted Values', 'Actual Values'])\n",
    "plt.xlabel(\"Year\")\n",
    "plt.xlabel(\"Life Expectancy\")\n",
    "plt.grid()\n",
    "plt.show()"
   ]
  },
  {
   "cell_type": "code",
   "execution_count": 23,
   "metadata": {},
   "outputs": [],
   "source": [
    "population_features = ['year', 'gdpPerCapita', 'lifeExpectancy']\n",
    "X_train_population = vietnam[from_1985_to_2007][population_features]\n",
    "y_train_population = vietnam[from_1985_to_2007]['population']\n",
    "\n",
    "lr_population.fit(X_train_population, y_train_population)\n",
    "\n",
    "predicted_population = lr_population.predict(X_train_population)"
   ]
  },
  {
   "cell_type": "code",
   "execution_count": 24,
   "metadata": {},
   "outputs": [
    {
     "data": {
      "image/png": "[encoded data removed]",
      "text/plain": [
       "<Figure size 576x360 with 1 Axes>"
      ]
     },
     "metadata": {
      "needs_background": "light"
     },
     "output_type": "display_data"
    }
   ],
   "source": [
    "plt.figure(figsize=(8, 5))\n",
    "plt.plot(X_train_population['year'], predicted_population)\n",
    "plt.plot(X_train_population['year'], y_train_population)\n",
    "plt.legend(['Predicted Values', 'Actual Values'])\n",
    "plt.xlabel(\"Year\")\n",
    "plt.xlabel(\"Population\")\n",
    "plt.grid()\n",
    "plt.show()"
   ]
  },
  {
   "cell_type": "markdown",
   "metadata": {},
   "source": [
    "### Prediction for 2016"
   ]
  },
  {
   "cell_type": "code",
   "execution_count": 25,
   "metadata": {},
   "outputs": [
    {
     "name": "stdout",
     "output_type": "stream",
     "text": [
      "[[1.00000000e+00 2.01600000e+03 4.06425600e+06 8.19354010e+09\n",
      "  1.65181768e+13 3.33006445e+16 6.71340993e+19 1.35342344e+23\n",
      "  2.72850166e+26 5.50065934e+29 1.10893292e+33]]\n"
     ]
    }
   ],
   "source": [
    "target_year = 2016\n",
    "\n",
    "poly_target_year = poly_reg.fit_transform([[target_year]])\n",
    "print(poly_target_year)\n",
    "predicted_gdp = pr_gdp.predict(poly_target_year)\n",
    "predicted_life = lr_life.predict([[target_year]])\n",
    "\n",
    "predicted_population = lr_population.predict([[target_year, predicted_gdp, predicted_life]])"
   ]
  },
  {
   "cell_type": "markdown",
   "metadata": {},
   "source": [
    "#### Show result"
   ]
  },
  {
   "cell_type": "code",
   "execution_count": 26,
   "metadata": {},
   "outputs": [
    {
     "data": {
      "text/html": [
       "<div>\n",
       "<style scoped>\n",
       "    .dataframe tbody tr th:only-of-type {\n",
       "        vertical-align: middle;\n",
       "    }\n",
       "\n",
       "    .dataframe tbody tr th {\n",
       "        vertical-align: top;\n",
       "    }\n",
       "\n",
       "    .dataframe thead th {\n",
       "        text-align: right;\n",
       "    }\n",
       "</style>\n",
       "<table border=\"1\" class=\"dataframe\">\n",
       "  <thead>\n",
       "    <tr style=\"text-align: right;\">\n",
       "      <th></th>\n",
       "      <th>country</th>\n",
       "      <th>countryCode</th>\n",
       "      <th>year</th>\n",
       "      <th>lifeExpectancy</th>\n",
       "      <th>populationFemale</th>\n",
       "      <th>populationMale</th>\n",
       "      <th>gdpPerCapita</th>\n",
       "      <th>population</th>\n",
       "    </tr>\n",
       "  </thead>\n",
       "  <tbody>\n",
       "    <tr>\n",
       "      <th>14846</th>\n",
       "      <td>Vietnam</td>\n",
       "      <td>VNM</td>\n",
       "      <td>2016</td>\n",
       "      <td>76.253</td>\n",
       "      <td>47780199.0</td>\n",
       "      <td>46788873.0</td>\n",
       "      <td>2170.648054</td>\n",
       "      <td>94569072.0</td>\n",
       "    </tr>\n",
       "  </tbody>\n",
       "</table>\n",
       "</div>"
      ],
      "text/plain": [
       "       country countryCode  year  lifeExpectancy  populationFemale  \\\n",
       "14846  Vietnam         VNM  2016          76.253        47780199.0   \n",
       "\n",
       "       populationMale  gdpPerCapita  population  \n",
       "14846      46788873.0   2170.648054  94569072.0  "
      ]
     },
     "execution_count": 26,
     "metadata": {},
     "output_type": "execute_result"
    }
   ],
   "source": [
    "vn_2016 = vietnam[vietnam['year'] == 2016]\n",
    "vn_2016"
   ]
  },
  {
   "cell_type": "code",
   "execution_count": 27,
   "metadata": {},
   "outputs": [
    {
     "data": {
      "text/plain": [
       "array([2.17064805e+03, 7.62530000e+01, 9.45690720e+07])"
      ]
     },
     "execution_count": 27,
     "metadata": {},
     "output_type": "execute_result"
    }
   ],
   "source": [
    "vn_2016[['gdpPerCapita', 'lifeExpectancy', 'population']].values[0]"
   ]
  },
  {
   "cell_type": "code",
   "execution_count": 28,
   "metadata": {},
   "outputs": [
    {
     "data": {
      "text/plain": [
       "1943.5228421465727"
      ]
     },
     "execution_count": 28,
     "metadata": {},
     "output_type": "execute_result"
    }
   ],
   "source": [
    "predicted_gdp[0]"
   ]
  },
  {
   "cell_type": "code",
   "execution_count": 29,
   "metadata": {},
   "outputs": [
    {
     "data": {
      "text/html": [
       "<div>\n",
       "<style scoped>\n",
       "    .dataframe tbody tr th:only-of-type {\n",
       "        vertical-align: middle;\n",
       "    }\n",
       "\n",
       "    .dataframe tbody tr th {\n",
       "        vertical-align: top;\n",
       "    }\n",
       "\n",
       "    .dataframe thead th {\n",
       "        text-align: right;\n",
       "    }\n",
       "</style>\n",
       "<table border=\"1\" class=\"dataframe\">\n",
       "  <thead>\n",
       "    <tr style=\"text-align: right;\">\n",
       "      <th></th>\n",
       "      <th>Predicted Values</th>\n",
       "      <th>True Values</th>\n",
       "    </tr>\n",
       "  </thead>\n",
       "  <tbody>\n",
       "    <tr>\n",
       "      <th>GDP</th>\n",
       "      <td>1943</td>\n",
       "      <td>2170</td>\n",
       "    </tr>\n",
       "    <tr>\n",
       "      <th>Life Expectancy</th>\n",
       "      <td>77</td>\n",
       "      <td>76</td>\n",
       "    </tr>\n",
       "    <tr>\n",
       "      <th>Population</th>\n",
       "      <td>97650189</td>\n",
       "      <td>94569072</td>\n",
       "    </tr>\n",
       "  </tbody>\n",
       "</table>\n",
       "</div>"
      ],
      "text/plain": [
       "                 Predicted Values  True Values\n",
       "GDP                          1943         2170\n",
       "Life Expectancy                77           76\n",
       "Population               97650189     94569072"
      ]
     },
     "execution_count": 29,
     "metadata": {},
     "output_type": "execute_result"
    }
   ],
   "source": [
    "pd.DataFrame(index=['GDP', 'Life Expectancy', 'Population'], \n",
    "             data={\n",
    "                 'Predicted Values': [predicted_gdp[0], predicted_life[0], predicted_population[0]],\n",
    "                 'True Values': vn_2016[['gdpPerCapita', 'lifeExpectancy', 'population']].values[0]\n",
    "                  },\n",
    "            dtype=np.int64)"
   ]
  },
  {
   "cell_type": "markdown",
   "metadata": {},
   "source": [
    "### Prediction from 2007 to 2016"
   ]
  },
  {
   "cell_type": "code",
   "execution_count": 44,
   "metadata": {},
   "outputs": [],
   "source": [
    "from_2007_to_2017 = [[i] for i in range(2007, 2017)]"
   ]
  },
  {
   "cell_type": "code",
   "execution_count": 45,
   "metadata": {},
   "outputs": [
    {
     "data": {
      "text/html": [
       "<div>\n",
       "<style scoped>\n",
       "    .dataframe tbody tr th:only-of-type {\n",
       "        vertical-align: middle;\n",
       "    }\n",
       "\n",
       "    .dataframe tbody tr th {\n",
       "        vertical-align: top;\n",
       "    }\n",
       "\n",
       "    .dataframe thead th {\n",
       "        text-align: right;\n",
       "    }\n",
       "</style>\n",
       "<table border=\"1\" class=\"dataframe\">\n",
       "  <thead>\n",
       "    <tr style=\"text-align: right;\">\n",
       "      <th></th>\n",
       "      <th>country</th>\n",
       "      <th>countryCode</th>\n",
       "      <th>year</th>\n",
       "      <th>lifeExpectancy</th>\n",
       "      <th>populationFemale</th>\n",
       "      <th>populationMale</th>\n",
       "      <th>gdpPerCapita</th>\n",
       "      <th>population</th>\n",
       "    </tr>\n",
       "  </thead>\n",
       "  <tbody>\n",
       "    <tr>\n",
       "      <th>14837</th>\n",
       "      <td>Vietnam</td>\n",
       "      <td>VNM</td>\n",
       "      <td>2007</td>\n",
       "      <td>74.609</td>\n",
       "      <td>43554275.0</td>\n",
       "      <td>42335315.0</td>\n",
       "      <td>901.324893</td>\n",
       "      <td>85889590.0</td>\n",
       "    </tr>\n",
       "    <tr>\n",
       "      <th>14838</th>\n",
       "      <td>Vietnam</td>\n",
       "      <td>VNM</td>\n",
       "      <td>2008</td>\n",
       "      <td>74.777</td>\n",
       "      <td>43944331.0</td>\n",
       "      <td>42763470.0</td>\n",
       "      <td>1143.268575</td>\n",
       "      <td>86707801.0</td>\n",
       "    </tr>\n",
       "    <tr>\n",
       "      <th>14839</th>\n",
       "      <td>Vietnam</td>\n",
       "      <td>VNM</td>\n",
       "      <td>2009</td>\n",
       "      <td>74.946</td>\n",
       "      <td>44353480.0</td>\n",
       "      <td>43211927.0</td>\n",
       "      <td>1210.691110</td>\n",
       "      <td>87565407.0</td>\n",
       "    </tr>\n",
       "    <tr>\n",
       "      <th>14840</th>\n",
       "      <td>Vietnam</td>\n",
       "      <td>VNM</td>\n",
       "      <td>2010</td>\n",
       "      <td>75.117</td>\n",
       "      <td>44789445.0</td>\n",
       "      <td>43683067.0</td>\n",
       "      <td>1310.370273</td>\n",
       "      <td>88472512.0</td>\n",
       "    </tr>\n",
       "    <tr>\n",
       "      <th>14841</th>\n",
       "      <td>Vietnam</td>\n",
       "      <td>VNM</td>\n",
       "      <td>2011</td>\n",
       "      <td>75.294</td>\n",
       "      <td>45256850.0</td>\n",
       "      <td>44179794.0</td>\n",
       "      <td>1515.479925</td>\n",
       "      <td>89436644.0</td>\n",
       "    </tr>\n",
       "    <tr>\n",
       "      <th>14842</th>\n",
       "      <td>Vietnam</td>\n",
       "      <td>VNM</td>\n",
       "      <td>2012</td>\n",
       "      <td>75.476</td>\n",
       "      <td>45752283.0</td>\n",
       "      <td>44699598.0</td>\n",
       "      <td>1722.683931</td>\n",
       "      <td>90451881.0</td>\n",
       "    </tr>\n",
       "    <tr>\n",
       "      <th>14843</th>\n",
       "      <td>Vietnam</td>\n",
       "      <td>VNM</td>\n",
       "      <td>2013</td>\n",
       "      <td>75.663</td>\n",
       "      <td>46265307.0</td>\n",
       "      <td>45232418.0</td>\n",
       "      <td>1871.325491</td>\n",
       "      <td>91497725.0</td>\n",
       "    </tr>\n",
       "    <tr>\n",
       "      <th>14844</th>\n",
       "      <td>Vietnam</td>\n",
       "      <td>VNM</td>\n",
       "      <td>2014</td>\n",
       "      <td>75.855</td>\n",
       "      <td>46780669.0</td>\n",
       "      <td>45764246.0</td>\n",
       "      <td>2012.046290</td>\n",
       "      <td>92544915.0</td>\n",
       "    </tr>\n",
       "    <tr>\n",
       "      <th>14845</th>\n",
       "      <td>Vietnam</td>\n",
       "      <td>VNM</td>\n",
       "      <td>2015</td>\n",
       "      <td>76.052</td>\n",
       "      <td>47287005.0</td>\n",
       "      <td>46284562.0</td>\n",
       "      <td>2065.169099</td>\n",
       "      <td>93571567.0</td>\n",
       "    </tr>\n",
       "    <tr>\n",
       "      <th>14846</th>\n",
       "      <td>Vietnam</td>\n",
       "      <td>VNM</td>\n",
       "      <td>2016</td>\n",
       "      <td>76.253</td>\n",
       "      <td>47780199.0</td>\n",
       "      <td>46788873.0</td>\n",
       "      <td>2170.648054</td>\n",
       "      <td>94569072.0</td>\n",
       "    </tr>\n",
       "  </tbody>\n",
       "</table>\n",
       "</div>"
      ],
      "text/plain": [
       "       country countryCode  year  lifeExpectancy  populationFemale  \\\n",
       "14837  Vietnam         VNM  2007          74.609        43554275.0   \n",
       "14838  Vietnam         VNM  2008          74.777        43944331.0   \n",
       "14839  Vietnam         VNM  2009          74.946        44353480.0   \n",
       "14840  Vietnam         VNM  2010          75.117        44789445.0   \n",
       "14841  Vietnam         VNM  2011          75.294        45256850.0   \n",
       "14842  Vietnam         VNM  2012          75.476        45752283.0   \n",
       "14843  Vietnam         VNM  2013          75.663        46265307.0   \n",
       "14844  Vietnam         VNM  2014          75.855        46780669.0   \n",
       "14845  Vietnam         VNM  2015          76.052        47287005.0   \n",
       "14846  Vietnam         VNM  2016          76.253        47780199.0   \n",
       "\n",
       "       populationMale  gdpPerCapita  population  \n",
       "14837      42335315.0    901.324893  85889590.0  \n",
       "14838      42763470.0   1143.268575  86707801.0  \n",
       "14839      43211927.0   1210.691110  87565407.0  \n",
       "14840      43683067.0   1310.370273  88472512.0  \n",
       "14841      44179794.0   1515.479925  89436644.0  \n",
       "14842      44699598.0   1722.683931  90451881.0  \n",
       "14843      45232418.0   1871.325491  91497725.0  \n",
       "14844      45764246.0   2012.046290  92544915.0  \n",
       "14845      46284562.0   2065.169099  93571567.0  \n",
       "14846      46788873.0   2170.648054  94569072.0  "
      ]
     },
     "execution_count": 45,
     "metadata": {},
     "output_type": "execute_result"
    }
   ],
   "source": [
    "data_from_2007_to_2017 = (vietnam['year'] >= 2007) & (vietnam['year'] < 2017)\n",
    "vietnam[data_from_2007_to_2017]"
   ]
  },
  {
   "cell_type": "code",
   "execution_count": 48,
   "metadata": {},
   "outputs": [
    {
     "data": {
      "text/html": [
       "<div>\n",
       "<style scoped>\n",
       "    .dataframe tbody tr th:only-of-type {\n",
       "        vertical-align: middle;\n",
       "    }\n",
       "\n",
       "    .dataframe tbody tr th {\n",
       "        vertical-align: top;\n",
       "    }\n",
       "\n",
       "    .dataframe thead th {\n",
       "        text-align: right;\n",
       "    }\n",
       "</style>\n",
       "<table border=\"1\" class=\"dataframe\">\n",
       "  <thead>\n",
       "    <tr style=\"text-align: right;\">\n",
       "      <th></th>\n",
       "      <th>year</th>\n",
       "      <th>gdpPerCapita</th>\n",
       "      <th>lifeExpectancy</th>\n",
       "    </tr>\n",
       "  </thead>\n",
       "  <tbody>\n",
       "    <tr>\n",
       "      <th>14837</th>\n",
       "      <td>2007</td>\n",
       "      <td>901.324893</td>\n",
       "      <td>74.609</td>\n",
       "    </tr>\n",
       "    <tr>\n",
       "      <th>14838</th>\n",
       "      <td>2008</td>\n",
       "      <td>1143.268575</td>\n",
       "      <td>74.777</td>\n",
       "    </tr>\n",
       "    <tr>\n",
       "      <th>14839</th>\n",
       "      <td>2009</td>\n",
       "      <td>1210.691110</td>\n",
       "      <td>74.946</td>\n",
       "    </tr>\n",
       "    <tr>\n",
       "      <th>14840</th>\n",
       "      <td>2010</td>\n",
       "      <td>1310.370273</td>\n",
       "      <td>75.117</td>\n",
       "    </tr>\n",
       "    <tr>\n",
       "      <th>14841</th>\n",
       "      <td>2011</td>\n",
       "      <td>1515.479925</td>\n",
       "      <td>75.294</td>\n",
       "    </tr>\n",
       "  </tbody>\n",
       "</table>\n",
       "</div>"
      ],
      "text/plain": [
       "       year  gdpPerCapita  lifeExpectancy\n",
       "14837  2007    901.324893          74.609\n",
       "14838  2008   1143.268575          74.777\n",
       "14839  2009   1210.691110          74.946\n",
       "14840  2010   1310.370273          75.117\n",
       "14841  2011   1515.479925          75.294"
      ]
     },
     "execution_count": 48,
     "metadata": {},
     "output_type": "execute_result"
    }
   ],
   "source": [
    "df_t01 = vietnam[data_from_2007_to_2017][['year', 'gdpPerCapita', 'lifeExpectancy']]\n",
    "df_t01.head()"
   ]
  },
  {
   "cell_type": "code",
   "execution_count": 49,
   "metadata": {},
   "outputs": [],
   "source": [
    "predicted_population_period = lr_population.predict(df_t01)"
   ]
  },
  {
   "cell_type": "code",
   "execution_count": 53,
   "metadata": {},
   "outputs": [],
   "source": [
    "df_t01['predicted_population'] = predicted_population_period\n",
    "df_t01['population'] = vietnam[data_from_2007_to_2017][['population']]"
   ]
  },
  {
   "cell_type": "code",
   "execution_count": 57,
   "metadata": {},
   "outputs": [
    {
     "data": {
      "text/html": [
       "<div>\n",
       "<style scoped>\n",
       "    .dataframe tbody tr th:only-of-type {\n",
       "        vertical-align: middle;\n",
       "    }\n",
       "\n",
       "    .dataframe tbody tr th {\n",
       "        vertical-align: top;\n",
       "    }\n",
       "\n",
       "    .dataframe thead th {\n",
       "        text-align: right;\n",
       "    }\n",
       "</style>\n",
       "<table border=\"1\" class=\"dataframe\">\n",
       "  <thead>\n",
       "    <tr style=\"text-align: right;\">\n",
       "      <th></th>\n",
       "      <th>year</th>\n",
       "      <th>gdpPerCapita</th>\n",
       "      <th>lifeExpectancy</th>\n",
       "      <th>predicted_population</th>\n",
       "      <th>population</th>\n",
       "    </tr>\n",
       "  </thead>\n",
       "  <tbody>\n",
       "    <tr>\n",
       "      <th>14842</th>\n",
       "      <td>2012</td>\n",
       "      <td>1722.683931</td>\n",
       "      <td>75.476</td>\n",
       "      <td>8.846564e+07</td>\n",
       "      <td>90451881.0</td>\n",
       "    </tr>\n",
       "    <tr>\n",
       "      <th>14843</th>\n",
       "      <td>2013</td>\n",
       "      <td>1871.325491</td>\n",
       "      <td>75.663</td>\n",
       "      <td>8.913976e+07</td>\n",
       "      <td>91497725.0</td>\n",
       "    </tr>\n",
       "    <tr>\n",
       "      <th>14844</th>\n",
       "      <td>2014</td>\n",
       "      <td>2012.046290</td>\n",
       "      <td>75.855</td>\n",
       "      <td>8.984577e+07</td>\n",
       "      <td>92544915.0</td>\n",
       "    </tr>\n",
       "    <tr>\n",
       "      <th>14845</th>\n",
       "      <td>2015</td>\n",
       "      <td>2065.169099</td>\n",
       "      <td>76.052</td>\n",
       "      <td>9.059349e+07</td>\n",
       "      <td>93571567.0</td>\n",
       "    </tr>\n",
       "    <tr>\n",
       "      <th>14846</th>\n",
       "      <td>2016</td>\n",
       "      <td>2170.648054</td>\n",
       "      <td>76.253</td>\n",
       "      <td>9.135950e+07</td>\n",
       "      <td>94569072.0</td>\n",
       "    </tr>\n",
       "  </tbody>\n",
       "</table>\n",
       "</div>"
      ],
      "text/plain": [
       "       year  gdpPerCapita  lifeExpectancy  predicted_population  population\n",
       "14842  2012   1722.683931          75.476          8.846564e+07  90451881.0\n",
       "14843  2013   1871.325491          75.663          8.913976e+07  91497725.0\n",
       "14844  2014   2012.046290          75.855          8.984577e+07  92544915.0\n",
       "14845  2015   2065.169099          76.052          9.059349e+07  93571567.0\n",
       "14846  2016   2170.648054          76.253          9.135950e+07  94569072.0"
      ]
     },
     "execution_count": 57,
     "metadata": {},
     "output_type": "execute_result"
    }
   ],
   "source": [
    "df_t01.tail()"
   ]
  },
  {
   "cell_type": "code",
   "execution_count": 145,
   "metadata": {},
   "outputs": [
    {
     "data": {
      "image/png": "[encoded data removed]",
      "text/plain": [
       "<Figure size 576x360 with 1 Axes>"
      ]
     },
     "metadata": {
      "needs_background": "light"
     },
     "output_type": "display_data"
    }
   ],
   "source": [
    "plt.figure(figsize=(8, 5))\n",
    "plt.plot(vietnam[data_from_2007_to_2017]['year'], df_t01['predicted_population'])\n",
    "plt.plot(vietnam[data_from_2007_to_2017]['year'], df_t01['population'])\n",
    "plt.legend(['Predicted Values', 'Actual Values'])\n",
    "plt.xlabel('Year')\n",
    "plt.ylabel('Population')\n",
    "plt.grid()\n",
    "plt.show()"
   ]
  },
  {
   "cell_type": "markdown",
   "metadata": {},
   "source": [
    "### Observation\n",
    "\n",
    "From the above graph comparing the actual population vs predicted population for the period 2007 to 2016, we can see that Vietnam population grows faster than prediction.\n",
    "\n",
    "That might be because there are other contributing factors to population growth other than GDP and Life Expectancy.\n",
    "\n",
    "So I will look into new data - like fertility, mortality, ..."
   ]
  },
  {
   "cell_type": "code",
   "execution_count": 138,
   "metadata": {},
   "outputs": [],
   "source": [
    "def normalize_worldbank_data(filename, value_name):\n",
    "    df_t01 = pd.read_csv(filename, header=2)\n",
    "\n",
    "    rng_years = [str(idx) for idx in range(1960, 2018)]\n",
    "    selected_columns = ['Country Name', 'Country Code'] + rng_years\n",
    "    \n",
    "    df_t02 = df_t01[selected_columns]\n",
    "    df_t03 = pd.melt(df_t02, id_vars=['Country Name', 'Country Code'], value_vars=rng_years, var_name='year', value_name=value_name)\n",
    "    df_t03 = df_t03.rename(columns={'Country Name': 'country', 'Country Code': 'countryCode'})\n",
    "    df_t03['year'] = df_t03['year'].astype('int64')\n",
    "    return df_t03"
   ]
  },
  {
   "cell_type": "code",
   "execution_count": 139,
   "metadata": {},
   "outputs": [
    {
     "data": {
      "text/plain": [
       "(15312, 4)"
      ]
     },
     "execution_count": 139,
     "metadata": {},
     "output_type": "execute_result"
    }
   ],
   "source": [
    "df_t04 = normalize_worldbank_data(\"Fertility.csv\", \"fertility\")\n",
    "df_t04.shape"
   ]
  },
  {
   "cell_type": "code",
   "execution_count": 136,
   "metadata": {},
   "outputs": [],
   "source": [
    "df_t05 = data.merge(df_t04, how='inner', on=['year', 'country', 'countryCode'])"
   ]
  },
  {
   "cell_type": "code",
   "execution_count": 142,
   "metadata": {},
   "outputs": [
    {
     "data": {
      "text/html": [
       "<div>\n",
       "<style scoped>\n",
       "    .dataframe tbody tr th:only-of-type {\n",
       "        vertical-align: middle;\n",
       "    }\n",
       "\n",
       "    .dataframe tbody tr th {\n",
       "        vertical-align: top;\n",
       "    }\n",
       "\n",
       "    .dataframe thead th {\n",
       "        text-align: right;\n",
       "    }\n",
       "</style>\n",
       "<table border=\"1\" class=\"dataframe\">\n",
       "  <thead>\n",
       "    <tr style=\"text-align: right;\">\n",
       "      <th></th>\n",
       "      <th>country</th>\n",
       "      <th>countryCode</th>\n",
       "      <th>year</th>\n",
       "      <th>lifeExpectancy</th>\n",
       "      <th>populationFemale</th>\n",
       "      <th>populationMale</th>\n",
       "      <th>gdpPerCapita</th>\n",
       "      <th>population</th>\n",
       "      <th>fertility</th>\n",
       "    </tr>\n",
       "  </thead>\n",
       "  <tbody>\n",
       "    <tr>\n",
       "      <th>0</th>\n",
       "      <td>Aruba</td>\n",
       "      <td>ABW</td>\n",
       "      <td>1960</td>\n",
       "      <td>65.662</td>\n",
       "      <td>27637.0</td>\n",
       "      <td>26574.0</td>\n",
       "      <td>NaN</td>\n",
       "      <td>54211.0</td>\n",
       "      <td>4.820</td>\n",
       "    </tr>\n",
       "    <tr>\n",
       "      <th>1</th>\n",
       "      <td>Aruba</td>\n",
       "      <td>ABW</td>\n",
       "      <td>1961</td>\n",
       "      <td>66.074</td>\n",
       "      <td>28254.0</td>\n",
       "      <td>27184.0</td>\n",
       "      <td>NaN</td>\n",
       "      <td>55438.0</td>\n",
       "      <td>4.655</td>\n",
       "    </tr>\n",
       "    <tr>\n",
       "      <th>2</th>\n",
       "      <td>Aruba</td>\n",
       "      <td>ABW</td>\n",
       "      <td>1962</td>\n",
       "      <td>66.444</td>\n",
       "      <td>28655.0</td>\n",
       "      <td>27570.0</td>\n",
       "      <td>NaN</td>\n",
       "      <td>56225.0</td>\n",
       "      <td>4.471</td>\n",
       "    </tr>\n",
       "    <tr>\n",
       "      <th>3</th>\n",
       "      <td>Aruba</td>\n",
       "      <td>ABW</td>\n",
       "      <td>1963</td>\n",
       "      <td>66.787</td>\n",
       "      <td>28907.0</td>\n",
       "      <td>27788.0</td>\n",
       "      <td>NaN</td>\n",
       "      <td>56695.0</td>\n",
       "      <td>4.271</td>\n",
       "    </tr>\n",
       "    <tr>\n",
       "      <th>4</th>\n",
       "      <td>Aruba</td>\n",
       "      <td>ABW</td>\n",
       "      <td>1964</td>\n",
       "      <td>67.113</td>\n",
       "      <td>29094.0</td>\n",
       "      <td>27938.0</td>\n",
       "      <td>NaN</td>\n",
       "      <td>57032.0</td>\n",
       "      <td>4.059</td>\n",
       "    </tr>\n",
       "  </tbody>\n",
       "</table>\n",
       "</div>"
      ],
      "text/plain": [
       "  country countryCode  year  lifeExpectancy  populationFemale  populationMale  \\\n",
       "0   Aruba         ABW  1960          65.662           27637.0         26574.0   \n",
       "1   Aruba         ABW  1961          66.074           28254.0         27184.0   \n",
       "2   Aruba         ABW  1962          66.444           28655.0         27570.0   \n",
       "3   Aruba         ABW  1963          66.787           28907.0         27788.0   \n",
       "4   Aruba         ABW  1964          67.113           29094.0         27938.0   \n",
       "\n",
       "   gdpPerCapita  population  fertility  \n",
       "0           NaN     54211.0      4.820  \n",
       "1           NaN     55438.0      4.655  \n",
       "2           NaN     56225.0      4.471  \n",
       "3           NaN     56695.0      4.271  \n",
       "4           NaN     57032.0      4.059  "
      ]
     },
     "execution_count": 142,
     "metadata": {},
     "output_type": "execute_result"
    }
   ],
   "source": [
    "df_t05.head()"
   ]
  },
  {
   "cell_type": "code",
   "execution_count": 143,
   "metadata": {},
   "outputs": [],
   "source": [
    "vietnam = df_t05[df_t05['country'] == 'Vietnam']"
   ]
  },
  {
   "cell_type": "markdown",
   "metadata": {},
   "source": [
    "#### Fertility over Year"
   ]
  },
  {
   "cell_type": "code",
   "execution_count": 144,
   "metadata": {
    "scrolled": false
   },
   "outputs": [
    {
     "data": {
      "image/png": "[encoded data removed]",
      "text/plain": [
       "<Figure size 432x288 with 1 Axes>"
      ]
     },
     "metadata": {
      "needs_background": "light"
     },
     "output_type": "display_data"
    }
   ],
   "source": [
    "plt.plot(vietnam['year'], vietnam['fertility'])\n",
    "plt.legend(['Vietnam'])\n",
    "plt.xlabel('Year')\n",
    "plt.ylabel('Fertility')\n",
    "plt.grid()\n",
    "plt.show()"
   ]
  },
  {
   "cell_type": "markdown",
   "metadata": {},
   "source": [
    "#### Predict Fertility from 2007 -> 2016"
   ]
  },
  {
   "cell_type": "code",
   "execution_count": 155,
   "metadata": {},
   "outputs": [
    {
     "data": {
      "text/plain": [
       "LinearRegression(copy_X=True, fit_intercept=True, n_jobs=1, normalize=False)"
      ]
     },
     "execution_count": 155,
     "metadata": {},
     "output_type": "execute_result"
    }
   ],
   "source": [
    "pg_fer = LinearRegression()\n",
    "pg_poly_fer = PolynomialFeatures(degree=10)\n",
    "\n",
    "X_train_fer = vietnam[from_1985_to_2007][['year']]\n",
    "X_train_fer_poly = pg_poly_fer.fit_transform(X_train_fer)\n",
    "y_train_fer = vietnam[from_1985_to_2007]['fertility']\n",
    "pg_fer.fit(X_train_fer_poly, y_train_fer)"
   ]
  },
  {
   "cell_type": "markdown",
   "metadata": {},
   "source": [
    "##### Visualize how prediction performs for past values"
   ]
  },
  {
   "cell_type": "code",
   "execution_count": null,
   "metadata": {},
   "outputs": [],
   "source": [
    "y_train_predicted = pg_fer.predict(X_train_fer_poly)"
   ]
  },
  {
   "cell_type": "code",
   "execution_count": 166,
   "metadata": {},
   "outputs": [
    {
     "data": {
      "image/png": "[encoded data removed]",
      "text/plain": [
       "<Figure size 432x288 with 1 Axes>"
      ]
     },
     "metadata": {
      "needs_background": "light"
     },
     "output_type": "display_data"
    }
   ],
   "source": [
    "plt.plot(vietnam[from_1985_to_2007]['year'], y_train_predicted)\n",
    "plt.plot(vietnam[from_1985_to_2007]['year'], y_train_fer)\n",
    "plt.legend(['Predicted Values', 'Actual Values'])\n",
    "plt.xlabel('Year')\n",
    "plt.ylabel('Fertility')\n",
    "plt.grid()\n",
    "plt.show()"
   ]
  },
  {
   "cell_type": "markdown",
   "metadata": {},
   "source": [
    "##### Visualize how prediction performs for the period 2007 -> 2016"
   ]
  },
  {
   "cell_type": "code",
   "execution_count": 156,
   "metadata": {},
   "outputs": [],
   "source": [
    "X_test_fer = vietnam[data_from_2007_to_2017][['year']]\n",
    "X_test_poly_fer = pg_poly_fer.fit_transform(X_test_fer)\n",
    "predicted_fer = pg_fer.predict(X_test_poly_fer)"
   ]
  },
  {
   "cell_type": "code",
   "execution_count": 157,
   "metadata": {},
   "outputs": [
    {
     "data": {
      "image/png": "[encoded data removed]",
      "text/plain": [
       "<Figure size 432x288 with 1 Axes>"
      ]
     },
     "metadata": {
      "needs_background": "light"
     },
     "output_type": "display_data"
    }
   ],
   "source": [
    "plt.plot(vietnam[data_from_2007_to_2017]['year'], predicted_fer)\n",
    "plt.plot(vietnam[data_from_2007_to_2017]['year'], vietnam[data_from_2007_to_2017]['fertility'])\n",
    "plt.legend(['Predicted Values', 'Actual Values'])\n",
    "plt.xlabel('Year')\n",
    "plt.ylabel('Fertility')\n",
    "plt.grid()\n",
    "plt.show()"
   ]
  },
  {
   "cell_type": "markdown",
   "metadata": {},
   "source": [
    "##### Observation\n",
    "Ouch, this is similar to the issue with Stock Prediction in the lab. It's because I assume that fertility somehow correlated to year as linear regression, but it's not. \n",
    "\n",
    "Let me check the corr between other data."
   ]
  },
  {
   "cell_type": "code",
   "execution_count": 159,
   "metadata": {},
   "outputs": [],
   "source": [
    "df_t06 = df_t05[['year', 'fertility', 'population', 'gdpPerCapita', 'lifeExpectancy']]"
   ]
  },
  {
   "cell_type": "code",
   "execution_count": 162,
   "metadata": {},
   "outputs": [],
   "source": [
    "import seaborn as sns"
   ]
  },
  {
   "cell_type": "code",
   "execution_count": 164,
   "metadata": {},
   "outputs": [
    {
     "data": {
      "text/plain": [
       "<matplotlib.axes._subplots.AxesSubplot at 0x1a1dfbba58>"
      ]
     },
     "execution_count": 164,
     "metadata": {},
     "output_type": "execute_result"
    },
    {
     "data": {
      "image/png": "[encoded data removed]",
      "text/plain": [
       "<Figure size 432x288 with 2 Axes>"
      ]
     },
     "metadata": {
      "needs_background": "light"
     },
     "output_type": "display_data"
    }
   ],
   "source": [
    "sns.heatmap(df_t06.corr(), annot=True)"
   ]
  },
  {
   "cell_type": "markdown",
   "metadata": {},
   "source": [
    "I can see that there are some notable correlations here\n",
    "\n",
    "* Life Expectancy improves over year. This makes sense. As the economic grows, people receive better healthcare, thus increasing Life Expectancy.\n",
    "* Fertility decreases over year. This is because the gorvement encourages less birthrate. Also, young people tends to have less childrent to provide better education and life style.\n",
    "* Fertility and Life Expectancy has negative correlation, as a result of the above."
   ]
  }
 ],
 "metadata": {
  "kernelspec": {
   "display_name": "Python 3",
   "language": "python",
   "name": "python3"
  },
  "language_info": {
   "codemirror_mode": {
    "name": "ipython",
    "version": 3
   },
   "file_extension": ".py",
   "mimetype": "text/x-python",
   "name": "python",
   "nbconvert_exporter": "python",
   "pygments_lexer": "ipython3",
   "version": "3.7.1"
  }
 },
 "nbformat": 4,
 "nbformat_minor": 2
}
